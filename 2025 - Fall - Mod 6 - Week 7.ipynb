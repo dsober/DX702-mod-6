{
 "cells": [
  {
   "cell_type": "code",
   "execution_count": 49,
   "id": "1d0f02ed-2273-4c5e-9dde-89aa42da7421",
   "metadata": {},
   "outputs": [],
   "source": [
    "import numpy as np\n",
    "import pandas as pd\n",
    "import matplotlib.pyplot as plt\n",
    "import statsmodels.api as sm\n",
    "from sklearn.neighbors import NearestNeighbors\n",
    "import seaborn as sns"
   ]
  },
  {
   "cell_type": "code",
   "execution_count": null,
   "id": "5ef2fd6c-2738-48cb-87b9-08b470c93771",
   "metadata": {},
   "outputs": [],
   "source": []
  },
  {
   "cell_type": "markdown",
   "id": "535511fc-dd7c-4eee-bf13-969243a35054",
   "metadata": {},
   "source": [
    "# Finding counterfactuals"
   ]
  },
  {
   "cell_type": "code",
   "execution_count": 3,
   "id": "e9fcdd76-d6e4-41b2-a216-712b8e32e526",
   "metadata": {},
   "outputs": [],
   "source": [
    "num = 100000\n",
    "Z = np.random.normal(0, 1, num)\n",
    "Z_prob = 1 / (1 + np.exp(Z))\n",
    "X = np.random.binomial(1, Z_prob)\n",
    "Y = 2 * X + 3 * X * Z + Z + np.random.normal(0, 1, num)\n",
    "df = pd.DataFrame({\"X\": X, \"Z\": Z, \"Y\": Y, \"X_Z\": X * Z})"
   ]
  },
  {
   "cell_type": "code",
   "execution_count": 39,
   "id": "3139e3bc-fc6c-41d5-b2d6-e22971f292bb",
   "metadata": {},
   "outputs": [],
   "source": [
    "num = 100000\n",
    "Z = np.random.normal(0, 1, num)\n",
    "Z_prob = 1 / (1 + np.exp(Z))\n",
    "X = np.random.binomial(1, Z_prob)\n",
    "Y = 2 * X + 3 * X * Z + Z + np.random.normal(0, 1, num)\n",
    "df = pd.DataFrame({\"X\": X, \"Z\": Z, \"Y\": Y, \"X_Z\": X * Z})"
   ]
  },
  {
   "cell_type": "code",
   "execution_count": 40,
   "id": "7b750602-2f6a-4828-97cc-a5fd2e293390",
   "metadata": {},
   "outputs": [
    {
     "data": {
      "text/plain": [
       "const   -0.001657\n",
       "X        2.009576\n",
       "Z        0.997907\n",
       "X_Z      3.006594\n",
       "dtype: float64"
      ]
     },
     "execution_count": 40,
     "metadata": {},
     "output_type": "execute_result"
    }
   ],
   "source": [
    "results = sm.OLS(Y, sm.add_constant(df.drop(columns=[\"Y\"]))).fit()\n",
    "results.params"
   ]
  },
  {
   "cell_type": "code",
   "execution_count": 41,
   "id": "65b66cea-08be-467f-80d6-19b117d6d07d",
   "metadata": {},
   "outputs": [
    {
     "name": "stdout",
     "output_type": "stream",
     "text": [
      "0.40660999546062243\n",
      "0.3173804251417051\n"
     ]
    }
   ],
   "source": [
    "treated = df[df.X == 1]\n",
    "untreated = df[df.X == 0]\n",
    "print(untreated.Y.mean())\n",
    "print(treated.Y.mean())"
   ]
  },
  {
   "cell_type": "code",
   "execution_count": 42,
   "id": "0fc8d006-2a46-4159-babf-6cf219c5f17f",
   "metadata": {},
   "outputs": [
    {
     "data": {
      "text/plain": [
       "0.7403136204672914"
      ]
     },
     "execution_count": 42,
     "metadata": {},
     "output_type": "execute_result"
    }
   ],
   "source": [
    "# ATT\n",
    "treated_cf_Y = results.predict(pd.DataFrame({\"const\": 1, \"X\": 0, \"Z\": treated.Z, \"X_Z\": 0}))\n",
    "treated.Y.mean() - treated_cf_Y.mean()"
   ]
  },
  {
   "cell_type": "code",
   "execution_count": 43,
   "id": "627b7c69-72c8-435d-9332-74ba1bee3617",
   "metadata": {},
   "outputs": [
    {
     "data": {
      "text/plain": [
       "0.7335211037521083"
      ]
     },
     "execution_count": 43,
     "metadata": {},
     "output_type": "execute_result"
    }
   ],
   "source": [
    "2 + 3 * treated.Z.mean() # Estimate of ATT, Y at X = 1 minus Y at X = 0 (the Z is present in both, so it cancels)"
   ]
  },
  {
   "cell_type": "code",
   "execution_count": 44,
   "id": "f9f162cf-eb21-4f4f-bb76-8a96f136f588",
   "metadata": {},
   "outputs": [
    {
     "data": {
      "text/plain": [
       "3.2396446741237326"
      ]
     },
     "execution_count": 44,
     "metadata": {},
     "output_type": "execute_result"
    }
   ],
   "source": [
    "#ATUT\n",
    "untreated_cf_Y = results.predict(pd.DataFrame({\"const\": 1, \"X\": 1, \"Z\": untreated.Z, \"X_Z\": untreated.Z}))\n",
    "untreated_cf_Y.mean() - untreated.Y.mean()"
   ]
  },
  {
   "cell_type": "code",
   "execution_count": 45,
   "id": "cb14a1ae-25a1-4e95-87f2-acd8a99441e5",
   "metadata": {},
   "outputs": [
    {
     "data": {
      "text/plain": [
       "3.227370992049526"
      ]
     },
     "execution_count": 45,
     "metadata": {},
     "output_type": "execute_result"
    }
   ],
   "source": [
    "2 + 3 * untreated.Z.mean() # Estimate of ATUT, Y at X = 1 minus Y at X = 0"
   ]
  },
  {
   "cell_type": "code",
   "execution_count": 46,
   "id": "62a3484e-a9fc-4671-9cac-52f941877039",
   "metadata": {},
   "outputs": [
    {
     "data": {
      "text/plain": [
       "1.9947528696079957"
      ]
     },
     "execution_count": 46,
     "metadata": {},
     "output_type": "execute_result"
    }
   ],
   "source": [
    "#ATE\n",
    "((treated.Y.mean() - treated_cf_Y.mean()) * treated.shape[0] + (untreated_cf_Y.mean() - untreated.Y.mean()) * untreated.shape[0]) \\\n",
    "/ df.shape[0]"
   ]
  },
  {
   "cell_type": "code",
   "execution_count": 47,
   "id": "bfbb9852-60ce-4845-95f1-8b25c4a2edfd",
   "metadata": {},
   "outputs": [
    {
     "data": {
      "text/plain": [
       "1.9852093011874652"
      ]
     },
     "execution_count": 47,
     "metadata": {},
     "output_type": "execute_result"
    }
   ],
   "source": [
    "2 + 3 * df.Z.mean() # Estimate of ATE"
   ]
  },
  {
   "cell_type": "code",
   "execution_count": 53,
   "id": "9fef4d4d-bdaa-4a86-8843-23ed1264c615",
   "metadata": {},
   "outputs": [],
   "source": [
    "num = 100000\n",
    "Z_mean = 0.5\n",
    "Z = np.random.normal(Z_mean, 1, num)\n",
    "Z_prob = 1 / (1 + np.exp(Z))\n",
    "X = np.random.binomial(1, Z_prob)\n",
    "Y = 2 * X + Z + np.random.normal(0, 1, num)\n",
    "df = pd.DataFrame({\"X\": X, \"Y\": Y, \"Z\": Z, \"X_Z\": X * Z})"
   ]
  },
  {
   "cell_type": "markdown",
   "id": "0498f74d-b286-45f4-87d9-9c9c83422bb2",
   "metadata": {},
   "source": [
    "### Linear regression for prediction: without X * Z"
   ]
  },
  {
   "cell_type": "code",
   "execution_count": 55,
   "id": "e3290de2-0162-4f9e-aab1-05270ed62339",
   "metadata": {},
   "outputs": [
    {
     "data": {
      "text/plain": [
       "const    0.004785\n",
       "X        1.992043\n",
       "Z        1.000669\n",
       "dtype: float64"
      ]
     },
     "execution_count": 55,
     "metadata": {},
     "output_type": "execute_result"
    }
   ],
   "source": [
    "model = sm.OLS(Y, sm.add_constant(df[[\"X\", \"Z\"]]))\n",
    "results = model.fit()\n",
    "results.params"
   ]
  },
  {
   "cell_type": "code",
   "execution_count": 56,
   "id": "e5c71ebb-cfaf-4e39-a6d2-32182f5b8dcf",
   "metadata": {},
   "outputs": [],
   "source": [
    "treated = df[df.X == 1]\n",
    "untreated = df[df.X == 0]\n",
    "treated_cf = sm.add_constant(pd.DataFrame({\"X\": 0, \"Z\": treated[\"Z\"]}), has_constant = \"add\")\n",
    "treated_cf_prediction = results.predict(treated_cf)"
   ]
  },
  {
   "cell_type": "code",
   "execution_count": 59,
   "id": "aecfe16d-75bc-4fc3-894d-22691d5d4552",
   "metadata": {},
   "outputs": [
    {
     "data": {
      "text/plain": [
       "array([[ 1.58633329,  0.30814614],\n",
       "       [ 1.36327739, -0.32031375],\n",
       "       [ 0.19571861, -2.13835599],\n",
       "       ...,\n",
       "       [ 4.69515385,  0.54638205],\n",
       "       [ 3.83086203,  0.70402237],\n",
       "       [ 3.80925195,  0.74907433]])"
      ]
     },
     "execution_count": 59,
     "metadata": {},
     "output_type": "execute_result"
    }
   ],
   "source": [
    "np.vstack((treated.Y, treated_cf_prediction)).T"
   ]
  },
  {
   "cell_type": "code",
   "execution_count": 60,
   "id": "0a1e74e0-1c56-4ebd-a5c9-6a7f6ca01ab2",
   "metadata": {},
   "outputs": [
    {
     "data": {
      "text/plain": [
       "1.9920430185896687"
      ]
     },
     "execution_count": 60,
     "metadata": {},
     "output_type": "execute_result"
    }
   ],
   "source": [
    "treated.Y.mean() - treated_cf_prediction.mean()"
   ]
  },
  {
   "cell_type": "code",
   "execution_count": 59,
   "id": "3b2159cf-894d-4057-8922-68db61190bfe",
   "metadata": {},
   "outputs": [
    {
     "name": "stdout",
     "output_type": "stream",
     "text": [
      "ATT effect: 2.00431624396385\n",
      "ATUT effect: 2.004316243963347\n",
      "ATE effect: 2.004316243963548\n"
     ]
    }
   ],
   "source": [
    "treated = df[df.X == 1]\n",
    "untreated = df[df.X == 0]\n",
    "\n",
    "treated_cf = sm.add_constant(pd.DataFrame({\"X\": 0, \"Z\": treated[\"Z\"]}), has_constant = \"add\")\n",
    "treated_cf_prediction = results.predict(treated_cf)\n",
    "untreated_cf = sm.add_constant(pd.DataFrame({\"X\": 1, \"Z\": untreated[\"Z\"]}), has_constant = \"add\")\n",
    "untreated_cf_prediction = results.predict(untreated_cf)\n",
    "\n",
    "print(\"ATT effect:\", treated.Y.mean() - treated_cf_prediction.mean())\n",
    "print(\"ATUT effect:\", untreated_cf_prediction.mean() - untreated.Y.mean())\n",
    "print(\"ATE effect:\", ((treated.Y.mean() - treated_cf_prediction.mean()) * treated.shape[0] + (untreated_cf_prediction.mean() - untreated.Y.mean()) * untreated.shape[0]) / (untreated.shape[0] + treated.shape[0]))"
   ]
  },
  {
   "cell_type": "code",
   "execution_count": 61,
   "id": "fce8e56c-cb69-4ce1-9905-014871d2746f",
   "metadata": {},
   "outputs": [],
   "source": [
    "num = 100000\n",
    "Z_mean = 0.5\n",
    "Z = np.random.normal(Z_mean, 1, num)\n",
    "Z_prob = 1 / (1 + np.exp(Z))\n",
    "X = np.random.binomial(1, Z_prob)\n",
    "Y = 2 * X + 3 * X * Z + Z + np.random.normal(0, 1, num)\n",
    "df = pd.DataFrame({\"X\": X, \"Y\": Y, \"Z\": Z, \"X_Z\": X * Z})"
   ]
  },
  {
   "cell_type": "markdown",
   "id": "b07c39cd-148e-4fb4-974a-886492365a6c",
   "metadata": {},
   "source": [
    "### Linear regression for prediction: with X * Z"
   ]
  },
  {
   "cell_type": "code",
   "execution_count": 62,
   "id": "4a819db6-76f4-44e8-9edc-3d8947e6db46",
   "metadata": {},
   "outputs": [
    {
     "data": {
      "text/plain": [
       "const    0.003806\n",
       "X        1.998134\n",
       "Z        0.999543\n",
       "X_Z      2.994023\n",
       "dtype: float64"
      ]
     },
     "execution_count": 62,
     "metadata": {},
     "output_type": "execute_result"
    }
   ],
   "source": [
    "model = sm.OLS(Y, sm.add_constant(df[[\"X\", \"Z\", \"X_Z\"]]))\n",
    "results = model.fit()\n",
    "results.params"
   ]
  },
  {
   "cell_type": "code",
   "execution_count": 23,
   "id": "272c312a-6deb-4034-9d9e-ae2d163ab986",
   "metadata": {},
   "outputs": [
    {
     "name": "stdout",
     "output_type": "stream",
     "text": [
      "treated Z mean: -0.00601439129669435 2 + 3 * Z =  1.981956826109917\n",
      "ATT effect: 1.992310724689152\n",
      "untreated Z mean: 0.8238457102294724 2 + 3 * Z =  4.471537130688417\n",
      "ATUT effect: 4.4678040706944655\n",
      "overall Z mean: 0.4919182668210362 2 + 3 * Z =  3.4757548004631085\n",
      "ATE effect: 3.4776562421592603\n"
     ]
    }
   ],
   "source": [
    "treated = df[df.X == 1]\n",
    "untreated = df[df.X == 0]\n",
    "\n",
    "treated_cf = sm.add_constant(pd.DataFrame({\"X\": 0, \"Z\": treated[\"Z\"], \"X_Z\": 0}), has_constant = \"add\")\n",
    "treated_cf_prediction = results.predict(treated_cf)\n",
    "untreated_cf = sm.add_constant(pd.DataFrame({\"X\": 1, \"Z\": untreated[\"Z\"], \"X_Z\": untreated[\"Z\"]}), has_constant = \"add\")\n",
    "untreated_cf_prediction = results.predict(untreated_cf)\n",
    "\n",
    "print(\"treated Z mean:\", treated.Z.mean(), \"2 + 3 * Z = \", 2 + 3 * treated.Z.mean())\n",
    "print(\"ATT effect:\", treated.Y.mean() - treated_cf_prediction.mean())\n",
    "print(\"untreated Z mean:\", untreated.Z.mean(), \"2 + 3 * Z = \", 2 + 3 * untreated.Z.mean())\n",
    "print(\"ATUT effect:\", untreated_cf_prediction.mean() - untreated.Y.mean())\n",
    "print(\"overall Z mean:\", df.Z.mean(), \"2 + 3 * Z = \", 2 + 3 * df.Z.mean())\n",
    "print(\"ATE effect:\", ((treated.Y.mean() - treated_cf_prediction.mean()) * treated.shape[0] + (untreated_cf_prediction.mean() - untreated.Y.mean()) * untreated.shape[0]) / (untreated.shape[0] + treated.shape[0]))"
   ]
  },
  {
   "cell_type": "markdown",
   "id": "784605ea-0ac6-48da-922d-6db22a759757",
   "metadata": {},
   "source": [
    "### An unweighted ATE effect differs from the correct ATE effect"
   ]
  },
  {
   "cell_type": "code",
   "execution_count": 25,
   "id": "cc854f23-5c2f-4948-a5bd-b5e436c192aa",
   "metadata": {},
   "outputs": [
    {
     "name": "stdout",
     "output_type": "stream",
     "text": [
      "ATE effect (wrong): 3.2300573976918088\n"
     ]
    }
   ],
   "source": [
    "# Note that if you don't weight by the number of items in treated and untreated, you get the wrong result\n",
    "print(\"ATE effect (wrong):\", ((treated.Y.mean() - treated_cf_prediction.mean()) + (untreated_cf_prediction.mean() - untreated.Y.mean())) / 2)"
   ]
  },
  {
   "cell_type": "markdown",
   "id": "af76d473-c344-45ab-89ef-aa1bc508fe9e",
   "metadata": {},
   "source": [
    "### Optimal Treatment Effect (In the homework I called this Marginal, but it's not quite the right term)"
   ]
  },
  {
   "cell_type": "code",
   "execution_count": 26,
   "id": "bf18f039-839a-4ab7-8444-5671a3683eba",
   "metadata": {},
   "outputs": [
    {
     "name": "stdout",
     "output_type": "stream",
     "text": [
      "22.71605166781269\n",
      "X      0.000000\n",
      "Y      3.756040\n",
      "Z      5.186843\n",
      "X_Z    0.000000\n",
      "Name: 12250, dtype: float64\n"
     ]
    }
   ],
   "source": [
    "arg = (untreated_cf_prediction.values - untreated.Y.values).argmax()\n",
    "print(untreated_cf_prediction.iloc[arg])\n",
    "print(untreated.iloc[arg])"
   ]
  },
  {
   "cell_type": "code",
   "execution_count": 27,
   "id": "2916e156-fdcb-41cc-8473-38285e89ee49",
   "metadata": {},
   "outputs": [
    {
     "data": {
      "text/plain": [
       "const   -0.011338\n",
       "X        2.010252\n",
       "Z        1.011146\n",
       "X_Z      2.983025\n",
       "dtype: float64"
      ]
     },
     "execution_count": 27,
     "metadata": {},
     "output_type": "execute_result"
    }
   ],
   "source": [
    "results.params"
   ]
  },
  {
   "cell_type": "markdown",
   "id": "d9c3b178-d8d3-4939-8fd8-d16767af5243",
   "metadata": {},
   "source": [
    "### Matching for prediction"
   ]
  },
  {
   "cell_type": "code",
   "execution_count": 43,
   "id": "35844ea4-5acf-43c7-a533-b8b640819457",
   "metadata": {},
   "outputs": [
    {
     "data": {
      "text/plain": [
       "1.9849456525319045"
      ]
     },
     "execution_count": 43,
     "metadata": {},
     "output_type": "execute_result"
    }
   ],
   "source": [
    "neighbors = NearestNeighbors(n_neighbors = 1).fit(untreated[[\"Z\"]])\n",
    "distances, indices = neighbors.kneighbors(treated[[\"Z\"]])\n",
    "treated.Y.mean() - untreated.iloc[indices.ravel()].Y.mean()"
   ]
  },
  {
   "cell_type": "code",
   "execution_count": 44,
   "id": "f7bed001-2bba-488d-9fff-85c38543a2e2",
   "metadata": {},
   "outputs": [
    {
     "data": {
      "text/plain": [
       "4.475828329322422"
      ]
     },
     "execution_count": 44,
     "metadata": {},
     "output_type": "execute_result"
    }
   ],
   "source": [
    "neighbors = NearestNeighbors(n_neighbors = 1).fit(treated[[\"Z\"]])\n",
    "distances, indices = neighbors.kneighbors(untreated[[\"Z\"]])\n",
    "treated.iloc[indices.ravel()].Y.mean() - untreated.Y.mean()"
   ]
  },
  {
   "cell_type": "code",
   "execution_count": 45,
   "id": "b883eeda-0720-4a10-a057-49bfe4e202aa",
   "metadata": {},
   "outputs": [
    {
     "data": {
      "text/plain": [
       "1.9849456525319045"
      ]
     },
     "execution_count": 45,
     "metadata": {},
     "output_type": "execute_result"
    }
   ],
   "source": [
    "neighbors = NearestNeighbors(n_neighbors = 1).fit(untreated[[\"Z\"]])\n",
    "distances, indices = neighbors.kneighbors(treated[[\"Z\"]])\n",
    "treated.Y.mean() - untreated.iloc[indices.ravel()].Y.mean()"
   ]
  },
  {
   "cell_type": "code",
   "execution_count": 46,
   "id": "c25c6847-96fe-4697-a501-df4190e4c6ff",
   "metadata": {},
   "outputs": [],
   "source": [
    "neighbors = NearestNeighbors(n_neighbors = 1).fit(untreated[[\"Z\"]])\n",
    "distances, indices = neighbors.kneighbors(treated[[\"Z\"]])\n",
    "treated_cf = untreated.iloc[indices.ravel()]"
   ]
  },
  {
   "cell_type": "code",
   "execution_count": 47,
   "id": "8596d1e0-34bb-4815-9124-3c3fea0ff2e3",
   "metadata": {},
   "outputs": [],
   "source": [
    "neighbors = NearestNeighbors(n_neighbors = 1).fit(treated[[\"Z\"]])\n",
    "distances, indices = neighbors.kneighbors(untreated[[\"Z\"]])\n",
    "untreated_cf = treated.iloc[indices.ravel()]"
   ]
  },
  {
   "cell_type": "code",
   "execution_count": 48,
   "id": "f06169ad-3eab-44bb-aba5-9b433cb5288b",
   "metadata": {},
   "outputs": [
    {
     "name": "stdout",
     "output_type": "stream",
     "text": [
      "ATT effect: 1.9849456525319045\n",
      "ATUT effect: 4.475828329322422\n",
      "ATE effect: 3.4795250762597507\n"
     ]
    }
   ],
   "source": [
    "print(\"ATT effect:\", treated.Y.mean() - treated_cf.Y.mean())\n",
    "print(\"ATUT effect:\", untreated_cf.Y.mean() - untreated.Y.mean())\n",
    "print(\"ATE effect:\", ((treated.Y.mean() - treated_cf.Y.mean()) * treated.shape[0] + (untreated_cf.Y.mean() - untreated.Y.mean()) * untreated.shape[0]) / (untreated.shape[0] + treated.shape[0]))"
   ]
  },
  {
   "cell_type": "markdown",
   "id": "ee185f67-7078-4957-9467-aa47b6497a3b",
   "metadata": {},
   "source": [
    "### Optimal Treatment Effect"
   ]
  },
  {
   "cell_type": "code",
   "execution_count": 30,
   "id": "54c49366-73f3-45ce-b1de-d10101c6e4b7",
   "metadata": {},
   "outputs": [
    {
     "name": "stdout",
     "output_type": "stream",
     "text": [
      "X       1.000000\n",
      "Y      15.222356\n",
      "Z       3.940958\n",
      "X_Z     3.940958\n",
      "Name: 18587, dtype: float64\n",
      "X      0.000000\n",
      "Y     -2.319297\n",
      "Z      4.315572\n",
      "X_Z    0.000000\n",
      "Name: 4544, dtype: float64\n"
     ]
    }
   ],
   "source": [
    "arg = (untreated_cf.reset_index().Y - untreated.reset_index().Y).argmax()\n",
    "print(untreated_cf.iloc[arg])\n",
    "print(untreated.iloc[arg])"
   ]
  },
  {
   "cell_type": "code",
   "execution_count": null,
   "id": "8de5d62d-3d9a-4eb3-b932-2384a9527927",
   "metadata": {},
   "outputs": [],
   "source": []
  }
 ],
 "metadata": {
  "kernelspec": {
   "display_name": "Python 3 (ipykernel)",
   "language": "python",
   "name": "python3"
  },
  "language_info": {
   "codemirror_mode": {
    "name": "ipython",
    "version": 3
   },
   "file_extension": ".py",
   "mimetype": "text/x-python",
   "name": "python",
   "nbconvert_exporter": "python",
   "pygments_lexer": "ipython3",
   "version": "3.12.0"
  }
 },
 "nbformat": 4,
 "nbformat_minor": 5
}
